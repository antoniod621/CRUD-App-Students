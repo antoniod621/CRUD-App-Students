{
  "nbformat": 4,
  "nbformat_minor": 0,
  "metadata": {
    "kernelspec": {
      "name": "python3",
      "display_name": "Python 3"
    },
    "colab": {
      "name": "4_join.ipynb",
      "provenance": [],
      "include_colab_link": true
    }
  },
  "cells": [
    {
      "cell_type": "markdown",
      "metadata": {
        "id": "view-in-github",
        "colab_type": "text"
      },
      "source": [
        "<a href=\"https://colab.research.google.com/github/antoniod621/CRUD-App-Students/blob/main/4_join.ipynb\" target=\"_parent\"><img src=\"https://colab.research.google.com/assets/colab-badge.svg\" alt=\"Open In Colab\"/></a>"
      ]
    },
    {
      "cell_type": "code",
      "metadata": {
        "id": "4SGidc-REbRl"
      },
      "source": [
        "#to solve this go and read the class lecture on map reduce where we discussed a trivial join example.\n",
        "#here the join key is playerid and year id"
      ],
      "execution_count": null,
      "outputs": []
    },
    {
      "cell_type": "code",
      "metadata": {
        "pycharm": {
          "name": "#%%\n"
        },
        "id": "4jMl8PIQaQJ-",
        "colab": {
          "base_uri": "https://localhost:8080/"
        },
        "outputId": "91b1ca95-e4fb-4596-9039-b8419c5da497"
      },
      "source": [
        "#install mrjob\n",
        "!pip install mrjob"
      ],
      "execution_count": 1,
      "outputs": [
        {
          "output_type": "stream",
          "name": "stdout",
          "text": [
            "Collecting mrjob\n",
            "  Downloading mrjob-0.7.4-py2.py3-none-any.whl (439 kB)\n",
            "\u001b[K     |████████████████████████████████| 439 kB 4.1 MB/s \n",
            "\u001b[?25hRequirement already satisfied: PyYAML>=3.10 in /usr/local/lib/python3.7/dist-packages (from mrjob) (3.13)\n",
            "Installing collected packages: mrjob\n",
            "Successfully installed mrjob-0.7.4\n"
          ]
        }
      ]
    },
    {
      "cell_type": "code",
      "metadata": {
        "pycharm": {
          "name": "#%%\n"
        },
        "id": "8kzp9KrSaQJ-",
        "colab": {
          "resources": {
            "http://localhost:8080/nbextensions/google.colab/files.js": {
              "data": "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",
              "ok": true,
              "headers": [
                [
                  "content-type",
                  "application/javascript"
                ]
              ],
              "status": 200,
              "status_text": ""
            }
          },
          "base_uri": "https://localhost:8080/",
          "height": 144
        },
        "outputId": "25e06279-8d49-4a08-aec6-eea8b300c91b"
      },
      "source": [
        "from google.colab import files\n",
        "\n",
        "# upload dataset\n",
        "uploaded = files.upload()\n",
        "for fn in uploaded.keys():\n",
        "  print('User uploaded file \"{name}\" with length {length} bytes'.format(\n",
        "      name=fn, length=len(uploaded[fn])))"
      ],
      "execution_count": 2,
      "outputs": [
        {
          "output_type": "display_data",
          "data": {
            "text/plain": [
              "<IPython.core.display.HTML object>"
            ],
            "text/html": [
              "\n",
              "     <input type=\"file\" id=\"files-a27bd8ec-28f3-462c-9971-430a5d5efde4\" name=\"files[]\" multiple disabled\n",
              "        style=\"border:none\" />\n",
              "     <output id=\"result-a27bd8ec-28f3-462c-9971-430a5d5efde4\">\n",
              "      Upload widget is only available when the cell has been executed in the\n",
              "      current browser session. Please rerun this cell to enable.\n",
              "      </output>\n",
              "      <script src=\"/nbextensions/google.colab/files.js\"></script> "
            ]
          },
          "metadata": {}
        },
        {
          "output_type": "stream",
          "name": "stdout",
          "text": [
            "Saving Batting.csv to Batting.csv\n",
            "Saving Salaries.csv to Salaries.csv\n",
            "User uploaded file \"Batting.csv\" with length 6488747 bytes\n",
            "User uploaded file \"Salaries.csv\" with length 700024 bytes\n"
          ]
        }
      ]
    },
    {
      "cell_type": "code",
      "metadata": {
        "pycharm": {
          "name": "#%%\n"
        },
        "id": "5gO67ZaRaQJ-"
      },
      "source": [
        "from google.colab import files\n",
        "\n",
        "# upload mrjob.conf under current directory(/content/mrjob.conf)\n",
        "uploaded = files.upload()\n",
        "for fn in uploaded.keys():\n",
        "  print('User uploaded file \"{name}\" with length {length} bytes'.format(\n",
        "      name=fn, length=len(uploaded[fn])))"
      ],
      "execution_count": null,
      "outputs": []
    },
    {
      "cell_type": "code",
      "metadata": {
        "id": "NFOAohHGDpA_",
        "colab": {
          "base_uri": "https://localhost:8080/"
        },
        "outputId": "43260756-727b-461c-aa28-afe0100f4fef"
      },
      "source": [
        "%%file 4_join.py\n",
        "#write the top pragma string to save this file in local colab drive as 3_days.py\n",
        "from mrjob.job import MRJob\n",
        "from mrjob.step import MRStep\n",
        "\n",
        "'''\n",
        "Join the batting and salaries data for Barry Bonds per year.\n",
        "\n",
        "The output should be the combined CSV string of batting and salaries data (one per year).\n",
        "\n",
        "Use 'join' as the key for the final output in the reducer.\n",
        "\n",
        "E.g:\n",
        "\"join\"  \"bondsba01,1986,1,PIT,NL,113,413,72,92,26,3,16,48,36,7,65,102,2,2,2,2,41986,PIT,NL,bondsba01,60000\"\n",
        "\n",
        "Schema:\n",
        "Salaries: yearID  teamID  lgID  playerID  salary\n",
        "Batting: playerID yearID  stint teamID  lgID  G AB  R H 2B  3B  HR  RBI SB  CS  BB  SO\n",
        "\n",
        "Hints: \n",
        "Use split to split the CSV lines (e.g. s = line.split(','))\n",
        "Both files are sent to the mapper. Use the length of the lines to determine which is which.\n",
        "'''\n",
        "\n",
        "\n",
        "\n",
        "class Join(MRJob):\n",
        "  SORT_VALUES = True\n",
        "  def mapper(self, _, line):\n",
        "        fields = line.split(\",\")\n",
        "        if len(fields) == 5:\n",
        "          if fields[3] == \"bondsba01\":\n",
        "            yield fields[0], ('s',fields[0], fields[1], fields[2], fields[3],\n",
        "                              fields[4])\n",
        "          else:\n",
        "            if fields[0] == \"bondsba01\":\n",
        "              yield fields[0], ('b', fields[0]. fields[1]. fields[2], fields[3],\n",
        "                                fields[4]. fields[5]. fields[6], fields[7],\n",
        "                                fields[8]. fields[9]. fields[10], fields[11],\n",
        "                                fields[12]. fields[13]. fields[14], fields[15],\n",
        "                                fields[16]. fields[17]. fields[18], fields[19],\n",
        "                                fields[20]. fields[21]. fields[22], fields[23])\n",
        "                        \n",
        "  def reducer(self, year, lines):\n",
        "     # do something\n",
        "     for line in lines:\n",
        "       yield year, str(line)\n",
        "          \n",
        "\n",
        "  def steps(self):\n",
        "      return [\n",
        "              MRStep(mapper = self.mapper, reducer = self.reducer)\n",
        "      ]\n",
        "\n",
        "if __name__ == '__main__':\n",
        "    Join.run()"
      ],
      "execution_count": 45,
      "outputs": [
        {
          "output_type": "stream",
          "name": "stdout",
          "text": [
            "Overwriting 4_join.py\n"
          ]
        }
      ]
    },
    {
      "source": [
        "## Step 1. Run MR program locally(Colab)"
      ],
      "cell_type": "markdown",
      "metadata": {
        "id": "m-w8du_MTzoU"
      }
    },
    {
      "cell_type": "code",
      "metadata": {
        "pycharm": {
          "name": "#%%\n"
        },
        "id": "cCYv0GOhaQJ_",
        "outputId": "60e16ab0-cf0d-455f-a25f-0280e0261ba5",
        "colab": {
          "base_uri": "https://localhost:8080/"
        }
      },
      "source": [
        "#write the command to run it first to check for error\n",
        "%%timeit\n",
        "!python 4_join.py Batting.csv Salaries.csv > 4_join.out"
      ],
      "execution_count": 46,
      "outputs": [
        {
          "output_type": "stream",
          "name": "stdout",
          "text": [
            "No configs found; falling back on auto-configuration\n",
            "No configs specified for inline runner\n",
            "Creating temp directory /tmp/4_join.root.20220401.021703.374664\n",
            "Running step 1 of 1...\n",
            "job output is in /tmp/4_join.root.20220401.021703.374664/output\n",
            "Streaming final output from /tmp/4_join.root.20220401.021703.374664/output...\n",
            "Removing temp directory /tmp/4_join.root.20220401.021703.374664...\n",
            "No configs found; falling back on auto-configuration\n",
            "No configs specified for inline runner\n",
            "Creating temp directory /tmp/4_join.root.20220401.021704.077381\n",
            "Running step 1 of 1...\n",
            "job output is in /tmp/4_join.root.20220401.021704.077381/output\n",
            "Streaming final output from /tmp/4_join.root.20220401.021704.077381/output...\n",
            "Removing temp directory /tmp/4_join.root.20220401.021704.077381...\n",
            "No configs found; falling back on auto-configuration\n",
            "No configs specified for inline runner\n",
            "Creating temp directory /tmp/4_join.root.20220401.021704.696999\n",
            "Running step 1 of 1...\n",
            "job output is in /tmp/4_join.root.20220401.021704.696999/output\n",
            "Streaming final output from /tmp/4_join.root.20220401.021704.696999/output...\n",
            "Removing temp directory /tmp/4_join.root.20220401.021704.696999...\n",
            "No configs found; falling back on auto-configuration\n",
            "No configs specified for inline runner\n",
            "Creating temp directory /tmp/4_join.root.20220401.021705.305136\n",
            "Running step 1 of 1...\n",
            "job output is in /tmp/4_join.root.20220401.021705.305136/output\n",
            "Streaming final output from /tmp/4_join.root.20220401.021705.305136/output...\n",
            "Removing temp directory /tmp/4_join.root.20220401.021705.305136...\n",
            "No configs found; falling back on auto-configuration\n",
            "No configs specified for inline runner\n",
            "Creating temp directory /tmp/4_join.root.20220401.021705.922882\n",
            "Running step 1 of 1...\n",
            "job output is in /tmp/4_join.root.20220401.021705.922882/output\n",
            "Streaming final output from /tmp/4_join.root.20220401.021705.922882/output...\n",
            "Removing temp directory /tmp/4_join.root.20220401.021705.922882...\n",
            "No configs found; falling back on auto-configuration\n",
            "No configs specified for inline runner\n",
            "Creating temp directory /tmp/4_join.root.20220401.021706.537235\n",
            "Running step 1 of 1...\n",
            "job output is in /tmp/4_join.root.20220401.021706.537235/output\n",
            "Streaming final output from /tmp/4_join.root.20220401.021706.537235/output...\n",
            "Removing temp directory /tmp/4_join.root.20220401.021706.537235...\n",
            "1 loop, best of 5: 616 ms per loop\n"
          ]
        }
      ]
    },
    {
      "cell_type": "code",
      "metadata": {
        "id": "Hw5ABd9RaQJ_",
        "outputId": "cc91163d-65f6-4268-dc8b-b03ac6cd45df",
        "colab": {
          "base_uri": "https://localhost:8080/"
        }
      },
      "source": [
        "!cat 4_join.out"
      ],
      "execution_count": 47,
      "outputs": [
        {
          "output_type": "stream",
          "name": "stdout",
          "text": [
            "\"1992\"\t\"['s', '1992', 'PIT', 'NL', 'bondsba01', '4800000']\"\n",
            "\"1993\"\t\"['s', '1993', 'SFN', 'NL', 'bondsba01', '4516666']\"\n",
            "\"1994\"\t\"['s', '1994', 'SFN', 'NL', 'bondsba01', '5166666']\"\n",
            "\"1995\"\t\"['s', '1995', 'SFN', 'NL', 'bondsba01', '8166666']\"\n",
            "\"1996\"\t\"['s', '1996', 'SFN', 'NL', 'bondsba01', '8416667']\"\n",
            "\"1997\"\t\"['s', '1997', 'SFN', 'NL', 'bondsba01', '8666667']\"\n",
            "\"1998\"\t\"['s', '1998', 'SFN', 'NL', 'bondsba01', '8916667']\"\n",
            "\"1999\"\t\"['s', '1999', 'SFN', 'NL', 'bondsba01', '9381057']\"\n",
            "\"2000\"\t\"['s', '2000', 'SFN', 'NL', 'bondsba01', '10658826']\"\n",
            "\"2001\"\t\"['s', '2001', 'SFN', 'NL', 'bondsba01', '10300000']\"\n",
            "\"2002\"\t\"['s', '2002', 'SFN', 'NL', 'bondsba01', '15000000']\"\n",
            "\"2003\"\t\"['s', '2003', 'SFN', 'NL', 'bondsba01', '15500000']\"\n",
            "\"1986\"\t\"['s', '1986', 'PIT', 'NL', 'bondsba01', '60000']\"\n",
            "\"1987\"\t\"['s', '1987', 'PIT', 'NL', 'bondsba01', '100000']\"\n",
            "\"1988\"\t\"['s', '1988', 'PIT', 'NL', 'bondsba01', '220000']\"\n",
            "\"1989\"\t\"['s', '1989', 'PIT', 'NL', 'bondsba01', '360000']\"\n",
            "\"1990\"\t\"['s', '1990', 'PIT', 'NL', 'bondsba01', '850000']\"\n",
            "\"1991\"\t\"['s', '1991', 'PIT', 'NL', 'bondsba01', '2300000']\"\n",
            "\"2004\"\t\"['s', '2004', 'SFN', 'NL', 'bondsba01', '18000000']\"\n",
            "\"2005\"\t\"['s', '2005', 'SFN', 'NL', 'bondsba01', '22000000']\"\n",
            "\"2006\"\t\"['s', '2006', 'SFN', 'NL', 'bondsba01', '19331470']\"\n",
            "\"2007\"\t\"['s', '2007', 'SFN', 'NL', 'bondsba01', '15533970']\"\n"
          ]
        }
      ]
    },
    {
      "source": [
        "## Step 2. Run MR program on AWS EMR"
      ],
      "cell_type": "markdown",
      "metadata": {
        "id": "uLBCaCYcTzoX"
      }
    },
    {
      "source": [
        "### Please copy  Batting.csv and Salaries.csv into your S3 bucket."
      ],
      "cell_type": "markdown",
      "metadata": {
        "id": "8yP98jIbTzoY"
      }
    },
    {
      "cell_type": "code",
      "metadata": {
        "id": "5BHydCGjFGda"
      },
      "source": [
        "#run and save output as 4_join.out\n",
        "#note that you can pass two files -- in any order to the mrjob\n",
        "#you might first check for errors before cascading the output it to 4_join.out\n",
        "%%timeit\n",
        "!python 4_join.py -r emr s3://<s3 url of the batting dataset> s3://<s3 url of the salaries dataset> --cloud-tmp-dir=s3://<s3 url of tmp directory> --cluster-id=<cluster ID> --conf-path <mrjob.conf file path in colab> > 4_join.out"
      ],
      "execution_count": null,
      "outputs": []
    },
    {
      "cell_type": "code",
      "metadata": {
        "id": "iJUgNkdYaQKA"
      },
      "source": [
        "!cat 4_join.out"
      ],
      "execution_count": null,
      "outputs": []
    },
    {
      "cell_type": "code",
      "metadata": {
        "id": "nctGmJTeFa1a"
      },
      "source": [
        "def test_count():\n",
        "    f = open('4_join.out')\n",
        "    lines = f.readlines()\n",
        "    f.close()\n",
        "    \n",
        "    found_line = False\n",
        "    for  line in lines:\n",
        "        if line[:-1] in [\n",
        "            '\"join\"\\t\"bondsba01,1986,1,PIT,NL,113,413,72,92,26,3,16,48,36,7,65,102,2,2,2,2,41986,PIT,NL,bondsba01,60000\"',\n",
        "            '\"join\"\\t\"bondsba01,1986,1,PIT,NL,113,413,72,92,26,3,16,48,36,7,65,102,2,2,2,2,4,1986,PIT,NL,bondsba01,60000\"']:\n",
        "            found_line = True\n",
        "        \n",
        "    if not found_line:\n",
        "        assert False\n",
        "\n",
        "    \n",
        "    assert len(lines) == 22\n",
        "\n",
        "test_count()"
      ],
      "execution_count": null,
      "outputs": []
    }
  ]
}